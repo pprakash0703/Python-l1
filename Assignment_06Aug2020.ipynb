{
 "cells": [
  {
   "cell_type": "markdown",
   "metadata": {},
   "source": [
    "#Given a list, url = [www.annauniv.edu, www.google.com, www.ndtv.com, www.website.org, www.bis.org.in, www.rbi.org.in]; Sort the list based on the top level domain (edu, com, org, in) using custom sorting"
   ]
  },
  {
   "cell_type": "code",
   "execution_count": 186,
   "metadata": {},
   "outputs": [
    {
     "data": {
      "text/plain": [
       "['www.google.com',\n",
       " 'www.ndtv.com',\n",
       " 'www.annauniv.edu',\n",
       " 'www.bis.org.in',\n",
       " 'www.rbi.org.in',\n",
       " 'www.website.org']"
      ]
     },
     "execution_count": 186,
     "metadata": {},
     "output_type": "execute_result"
    }
   ],
   "source": [
    "url = ['www.annauniv.edu', 'www.google.com', 'www.ndtv.com', 'www.website.org', 'www.bis.org.in', 'www.rbi.org.in']\n",
    "url.sort(key=lambda x:x.split('.')[-1])\n",
    "url"
   ]
  },
  {
   "cell_type": "markdown",
   "metadata": {},
   "source": [
    " 2.\tGiven a list of strings, return the count of the number of strings where the string length is 2 or more and the first and last chars of the string are the same.  \n",
    "\n",
    "#i.\t['axa', 'xyz', 'gg', 'x', 'yyy']\n",
    "#ii.\t['x', 'cd', 'cnc', 'kk']\n",
    "#iii.\t['bab', 'ce', 'cba', 'syanora']\n"
   ]
  },
  {
   "cell_type": "code",
   "execution_count": 187,
   "metadata": {},
   "outputs": [
    {
     "data": {
      "text/plain": [
       "3"
      ]
     },
     "execution_count": 187,
     "metadata": {},
     "output_type": "execute_result"
    }
   ],
   "source": [
    "strlist=[\"axa\",\"xyz\",'gg','x','yyy']\n",
    "op_list=[ x for x in strlist if (x[0] == x[-1] and len(x) >=2)]\n",
    "len(op_list)"
   ]
  },
  {
   "cell_type": "code",
   "execution_count": 36,
   "metadata": {},
   "outputs": [
    {
     "data": {
      "text/plain": [
       "2"
      ]
     },
     "execution_count": 36,
     "metadata": {},
     "output_type": "execute_result"
    }
   ],
   "source": [
    "strlist2=['x', 'cd', 'cnc', 'kk']\n",
    "op_list=[ x for x in strlist2 if (x[0] == x[-1] and len(x) >=2)]\n",
    "len(op_list)"
   ]
  },
  {
   "cell_type": "code",
   "execution_count": 37,
   "metadata": {},
   "outputs": [
    {
     "name": "stdout",
     "output_type": "stream",
     "text": [
      "1\n"
     ]
    }
   ],
   "source": [
    "#another version\n",
    "strlist3=['bab', 'ce', 'cba', 'syanora']\n",
    "i=0\n",
    "for str in strlist3:\n",
    "    if (str[0] == str[-1] and len(str) >= 2):\n",
    "        i+=1\n",
    "print (i)        "
   ]
  },
  {
   "cell_type": "markdown",
   "metadata": {},
   "source": [
    "3.\tGiven a list of strings, return a list with the strings in sorted order, except group all the strings that begin with 'x' first.  e.g. ['mix', 'xyz', 'apple', 'xanadu', 'aardvark'] yields\n",
    "['xanadu', 'xyz', 'aardvark', 'apple', 'mix']. \n",
    "Hint: this can be done by making 2 lists and sorting each of them before combining them.\n",
    "i.\t['bbb', 'ccc', 'axx', 'xzz', 'xaa']\n",
    "ii.\t['mix', 'xyz', 'apple', 'xanadu', 'aardvark']\n"
   ]
  },
  {
   "cell_type": "code",
   "execution_count": 191,
   "metadata": {},
   "outputs": [
    {
     "data": {
      "text/plain": [
       "['xanadu', 'xyz', 'aardvark', 'apple', 'mix']"
      ]
     },
     "execution_count": 191,
     "metadata": {},
     "output_type": "execute_result"
    }
   ],
   "source": [
    "str2=['mix', 'xyz', 'apple', 'xanadu', 'aardvark'] \n",
    "str_x=[str for str in str2 if str.startswith('x')]\n",
    "str_x.sort()\n",
    "str_x\n",
    "str_oth = [str for str in str2 if not str.startswith('x')]\n",
    "str_oth.sort()\n",
    "str_oth\n",
    "res=str_x + str_oth\n",
    "res"
   ]
  },
  {
   "cell_type": "code",
   "execution_count": 192,
   "metadata": {},
   "outputs": [
    {
     "name": "stdout",
     "output_type": "stream",
     "text": [
      "['xaa', 'xzz', 'axx', 'bbb', 'ccc']\n"
     ]
    }
   ],
   "source": [
    "#using function\n",
    "def cust_func(*args):\n",
    "    lst = args\n",
    "    str_x=[str for str in lst if str.startswith('x')]\n",
    "    str_x.sort()\n",
    "    str_x\n",
    "    str_oth = [str for str in lst if not str.startswith('x')]\n",
    "    str_oth.sort()\n",
    "    str_oth\n",
    "    res=str_x + str_oth\n",
    "    return res \n",
    "\n",
    "print(cust_func('bbb','ccc','axx','xzz','xaa'))"
   ]
  },
  {
   "cell_type": "markdown",
   "metadata": {},
   "source": [
    "4.\tGiven a list of non-empty tuples, return a list sorted in increasing order by the last element in each tuple. \n",
    "e.g. [(1, 7), (1, 3), (3, 4, 5), (2, 2)] yields [(2, 2), (1, 3), (3, 4, 5), (1, 7)]\n",
    "      Hint: use a custom key= function to extract the last element form each tuple.\n",
    "i.\t [(1, 3), (3, 2), (2, 1)]\n",
    "ii.\t[(1, 7), (1, 3), (3, 4, 5), (2, 2)]\n"
   ]
  },
  {
   "cell_type": "code",
   "execution_count": 41,
   "metadata": {},
   "outputs": [
    {
     "data": {
      "text/plain": [
       "[(2, 2), (1, 3), (3, 4, 5), (1, 7)]"
      ]
     },
     "execution_count": 41,
     "metadata": {},
     "output_type": "execute_result"
    }
   ],
   "source": [
    "tup_lst=[(1, 7), (1, 3), (3, 4, 5), (2, 2)]\n",
    "tup_lst.sort(key=lambda x: x[1])\n",
    "tup_lst"
   ]
  },
  {
   "cell_type": "markdown",
   "metadata": {},
   "source": [
    "5.\tGiven a list of numbers, return a list where all adjacent == elements have been reduced to a single element, so [1, 2, 2, 3] returns [1, 2, 3]. You may create a new list or modify the passed in list.\n",
    "i.\t [1, 2, 2, 3], [2, 2, 3, 3, 3]\n"
   ]
  },
  {
   "cell_type": "code",
   "execution_count": 77,
   "metadata": {},
   "outputs": [
    {
     "data": {
      "text/plain": [
       "[2, 3, 2, 4, 3, 5]"
      ]
     },
     "execution_count": 77,
     "metadata": {},
     "output_type": "execute_result"
    }
   ],
   "source": [
    "dup_lst=[2, 2, 3, 3, 3, 2, 2, 4, 3, 5 ,5]\n",
    "res=[dup_lst[x] for x in range(len(dup_lst)) if (x == len(dup_lst)-1 or dup_lst[x] != dup_lst[x+1] )]\n",
    "res"
   ]
  },
  {
   "cell_type": "markdown",
   "metadata": {},
   "source": [
    "6.\tWrite a function to print the information in the dictionary(bookstore) in the given format\n",
    "\n",
    "bookstore={\"New Arrivals\":{\"COOKING\":[\"Everyday Italian\",\"Giada De Laurentiis\",\"2005\",\"30.00\"],\"CHILDREN\":[\"Harry Potter”, J K. Rowling\",\"2005\",\"29.99\"],\"WEB\":[\"Learning XML\",\"Erik T. Ray\",\"2003\",\"39.95\"]}}\n"
   ]
  },
  {
   "cell_type": "code",
   "execution_count": 43,
   "metadata": {},
   "outputs": [],
   "source": [
    "bookstore={\"New Arrivals\":{\"COOKING\":[\"Everyday Italian\",\"Giada De Laurentiis\",\"2005\",\"30.00\"],\"CHILDREN\":[\"Harry Potter”, J K. Rowling\",\"2005\",\"29.99\"],\"WEB\":[\"Learning XML\",\"Erik T. Ray\",\"2003\",\"39.95\"]}}"
   ]
  },
  {
   "cell_type": "code",
   "execution_count": 104,
   "metadata": {},
   "outputs": [
    {
     "name": "stdout",
     "output_type": "stream",
     "text": [
      "BOOKSTORE\n",
      "['Everyday Italian', 'Giada De Laurentiis', '2005', '30.00']\n",
      "['Harry Potter”, J K. Rowling', '2005', '29.99']\n",
      "['Learning XML', 'Erik T. Ray', '2003', '39.95']\n"
     ]
    }
   ],
   "source": [
    "def book_details():\n",
    "    bookstore={\"New Arrivals\":{\"COOKING\":[\"Everyday Italian\",\"Giada De Laurentiis\",\"2005\",\"30.00\"],\"CHILDREN\":[\"Harry Potter”, J K. Rowling\",\"2005\",\"29.99\"],\"WEB\":[\"Learning XML\",\"Erik T. Ray\",\"2003\",\"39.95\"]}}\n",
    "    print(\"BOOKSTORE\")    \n",
    "    for k1,v1 in bookstore.items():\n",
    "        for k2,v2 in v1.items():\n",
    "            print(v2)\n",
    "\n",
    "book_details()         "
   ]
  },
  {
   "cell_type": "markdown",
   "metadata": {},
   "source": [
    "7.\tGiven a string, str1=\"\"”Python is a widely used high-level programming language for general-purpose programming, created by Guido van Rossum and first released in 1991. An interpreted language, Python has a design philosophy which emphasizes code readability (notably using whitespace indentation to delimit code blocks rather than curly braces or keywords), and a syntax which allows programmers to express concepts in fewer lines of code than possible in languages such as C++ or Java. The language provides constructs intended to enable writing clear programs on both a small and large scale .Python features a dynamic type system and automatic memory management and supports multiple programming paradigms, including object-oriented, imperative, functional programming, and procedural styles. It has a large and comprehensive standard library. Python interpreters are available for many operating systems, allowing Python code to run on a wide variety of systems. CPython, the reference implementation of Python, is open source software and has a community-based development model, as do nearly all of its variant implementations. CPython is managed by the non-profit Python Software Foundation.\"\"\"\n",
    "a.\tBuild a dictionary, with \"words as key\" --> Frequency of occurrence as value\n",
    "E.g. Python 7, is3\n",
    "b.\tPrint the top 5 words with their frequency of occurrence\n"
   ]
  },
  {
   "cell_type": "code",
   "execution_count": 68,
   "metadata": {},
   "outputs": [],
   "source": [
    "str_py=\"\"\"Python is a widely used high-level programming language for general-purpose programming, created by Guido van Rossum and first released in 1991. An interpreted language, Python has a design philosophy which emphasizes code readability (notably using whitespace indentation to delimit code blocks rather than curly braces or keywords), and a syntax which allows programmers to express concepts in fewer lines of code than possible in languages such as C++ or Java. The language provides constructs intended to enable writing clear programs on both a small and large scale .Python features a dynamic type system and automatic memory management and supports multiple programming paradigms, including object-oriented, imperative, functional programming, and procedural styles. It has a large and comprehensive standard library. Python interpreters are available for many operating systems, allowing Python code to run on a wide variety of systems. CPython, the reference implementation of Python, is open source software and has a community-based development model, as do nearly all of its variant implementations. CPython is managed by the non-profit Python Software Foundation.\"\"\""
   ]
  },
  {
   "cell_type": "code",
   "execution_count": 69,
   "metadata": {},
   "outputs": [
    {
     "data": {
      "text/plain": [
       "{'Python': 5,\n",
       " 'is': 3,\n",
       " 'a': 8,\n",
       " 'widely': 1,\n",
       " 'used': 1,\n",
       " 'high-level': 1,\n",
       " 'programming': 2,\n",
       " 'language': 2,\n",
       " 'for': 2,\n",
       " 'general-purpose': 1,\n",
       " 'programming,': 2,\n",
       " 'created': 1,\n",
       " 'by': 2,\n",
       " 'Guido': 1,\n",
       " 'van': 1,\n",
       " 'Rossum': 1,\n",
       " 'and': 8,\n",
       " 'first': 1,\n",
       " 'released': 1,\n",
       " 'in': 3,\n",
       " '1991.': 1,\n",
       " 'An': 1,\n",
       " 'interpreted': 1,\n",
       " 'language,': 1,\n",
       " 'has': 3,\n",
       " 'design': 1,\n",
       " 'philosophy': 1,\n",
       " 'which': 2,\n",
       " 'emphasizes': 1,\n",
       " 'code': 4,\n",
       " 'readability': 1,\n",
       " '(notably': 1,\n",
       " 'using': 1,\n",
       " 'whitespace': 1,\n",
       " 'indentation': 1,\n",
       " 'to': 4,\n",
       " 'delimit': 1,\n",
       " 'blocks': 1,\n",
       " 'rather': 1,\n",
       " 'than': 2,\n",
       " 'curly': 1,\n",
       " 'braces': 1,\n",
       " 'or': 2,\n",
       " 'keywords),': 1,\n",
       " 'syntax': 1,\n",
       " 'allows': 1,\n",
       " 'programmers': 1,\n",
       " 'express': 1,\n",
       " 'concepts': 1,\n",
       " 'fewer': 1,\n",
       " 'lines': 1,\n",
       " 'of': 4,\n",
       " 'possible': 1,\n",
       " 'languages': 1,\n",
       " 'such': 1,\n",
       " 'as': 2,\n",
       " 'C++': 1,\n",
       " 'Java.': 1,\n",
       " 'The': 1,\n",
       " 'provides': 1,\n",
       " 'constructs': 1,\n",
       " 'intended': 1,\n",
       " 'enable': 1,\n",
       " 'writing': 1,\n",
       " 'clear': 1,\n",
       " 'programs': 1,\n",
       " 'on': 2,\n",
       " 'both': 1,\n",
       " 'small': 1,\n",
       " 'large': 2,\n",
       " 'scale': 1,\n",
       " '.Python': 1,\n",
       " 'features': 1,\n",
       " 'dynamic': 1,\n",
       " 'type': 1,\n",
       " 'system': 1,\n",
       " 'automatic': 1,\n",
       " 'memory': 1,\n",
       " 'management': 1,\n",
       " 'supports': 1,\n",
       " 'multiple': 1,\n",
       " 'paradigms,': 1,\n",
       " 'including': 1,\n",
       " 'object-oriented,': 1,\n",
       " 'imperative,': 1,\n",
       " 'functional': 1,\n",
       " 'procedural': 1,\n",
       " 'styles.': 1,\n",
       " 'It': 1,\n",
       " 'comprehensive': 1,\n",
       " 'standard': 1,\n",
       " 'library.': 1,\n",
       " 'interpreters': 1,\n",
       " 'are': 1,\n",
       " 'available': 1,\n",
       " 'many': 1,\n",
       " 'operating': 1,\n",
       " 'systems,': 1,\n",
       " 'allowing': 1,\n",
       " 'run': 1,\n",
       " 'wide': 1,\n",
       " 'variety': 1,\n",
       " 'systems.': 1,\n",
       " 'CPython,': 1,\n",
       " 'the': 2,\n",
       " 'reference': 1,\n",
       " 'implementation': 1,\n",
       " 'Python,': 1,\n",
       " 'open': 1,\n",
       " 'source': 1,\n",
       " 'software': 1,\n",
       " 'community-based': 1,\n",
       " 'development': 1,\n",
       " 'model,': 1,\n",
       " 'do': 1,\n",
       " 'nearly': 1,\n",
       " 'all': 1,\n",
       " 'its': 1,\n",
       " 'variant': 1,\n",
       " 'implementations.': 1,\n",
       " 'CPython': 1,\n",
       " 'managed': 1,\n",
       " 'non-profit': 1,\n",
       " 'Software': 1,\n",
       " 'Foundation.': 1}"
      ]
     },
     "execution_count": 69,
     "metadata": {},
     "output_type": "execute_result"
    }
   ],
   "source": [
    "# Build a dictionary, with \"words as key\" --> Frequency of occurrence as value\n",
    "py_dict={x:str_py.split().count(x) for x in str_py.split()}\n",
    "py_dict"
   ]
  },
  {
   "cell_type": "code",
   "execution_count": 193,
   "metadata": {},
   "outputs": [
    {
     "data": {
      "text/plain": [
       "[('a', 8), ('and', 8), ('Python', 5), ('code', 4), ('to', 4)]"
      ]
     },
     "execution_count": 193,
     "metadata": {},
     "output_type": "execute_result"
    }
   ],
   "source": [
    "#Print the top 5 words with their frequency of occurrence\n",
    "list(sorted(py_dict.items(),key=lambda x:x[1],reverse=True))[:5]"
   ]
  },
  {
   "cell_type": "markdown",
   "metadata": {},
   "source": [
    "8.\tGiven a string, str1=\"\"”Python is a widely used high-level programming language for general-purpose programming, created by Guido van Rossum and first released in 1991. An interpreted language, Python has a design philosophy which emphasizes code readability (notably using whitespace indentation to delimit code blocks rather than curly braces or keywords), and a syntax which allows programmers to express concepts in fewer lines of code than possible in languages such as C++ or Java. The language provides constructs intended to enable writing clear programs on both a small and large scale .Python features a dynamic type system and automatic memory management and supports multiple programming paradigms, including object-oriented, imperative, functional programming, and procedural styles. It has a large and comprehensive standard library. Python interpreters are available for many operating systems, allowing Python code to run on a wide variety of systems. CPython, the reference implementation of Python, is open source software and has a community-based development model, as do nearly all of its variant implementations. CPython is managed by the non-profit Python Software Foundation.\"\"\"\n",
    "Hint:  Assume that the first word is preceded by \" \"\n",
    "a.\tBuild a dictionary where the key is a word and the value is the list of words that are likely to follow.\n",
    "i.\tE.g. Python  [is, has, features, interpreters, code, Software]. In this example the words listed are likely to follow “Python”\n",
    "b.\tGiven a word predict the word that’s likely to follow.\n"
   ]
  },
  {
   "cell_type": "markdown",
   "metadata": {},
   "source": [
    "str_splt=py_dict1.split()\n",
    "itr=iter(str_splt)\n",
    "next(itr)\n",
    "for x in str_splt:\n",
    "    print(\"item:\",x)\n",
    "    if  ( x == str_splt[-1]) :\n",
    "        print(\"iter :\")\n",
    "    else:\n",
    "        print(\"iter :\",next(itr))\n",
    "\n",
    "\n",
    "#{x:next(itr) for x in str_splt}"
   ]
  },
  {
   "cell_type": "code",
   "execution_count": 72,
   "metadata": {},
   "outputs": [],
   "source": [
    "py_dict1=\"\"\" Python is a widely used high-level programming language for general-purpose programming, created by Guido van Rossum and first released in 1991. An interpreted language, Python has a design philosophy which emphasizes code readability (notably using whitespace indentation to delimit code blocks rather than curly braces or keywords), and a syntax which allows programmers to express concepts in fewer lines of code than possible in languages such as C++ or Java. The language provides constructs intended to enable writing clear programs on both a small and large scale .Python features a dynamic type system and automatic memory management and supports multiple programming paradigms, including object-oriented, imperative, functional programming, and procedural styles. It has a large and comprehensive standard library. Python interpreters are available for many operating systems, allowing Python code to run on a wide variety of systems. CPython, the reference implementation of Python, is open source software and has a community-based development model, as do nearly all of its variant implementations. CPython is managed by the non-profit Python Software Foundation.\"\"\""
   ]
  },
  {
   "cell_type": "code",
   "execution_count": 148,
   "metadata": {},
   "outputs": [
    {
     "data": {
      "text/plain": [
       "{'Python': ['is', 'code', 'interpreters', 'has', 'Software'],\n",
       " 'is': ['open', 'a', 'managed'],\n",
       " 'a': ['syntax',\n",
       "  'widely',\n",
       "  'design',\n",
       "  'community-based',\n",
       "  'large',\n",
       "  'dynamic',\n",
       "  'small',\n",
       "  'wide'],\n",
       " 'widely': ['used'],\n",
       " 'used': ['high-level'],\n",
       " 'high-level': ['programming'],\n",
       " 'programming': ['language', 'paradigms,'],\n",
       " 'language': ['provides', 'for'],\n",
       " 'for': ['general-purpose', 'many'],\n",
       " 'general-purpose': ['programming,'],\n",
       " 'programming,': ['and', 'created'],\n",
       " 'created': ['by'],\n",
       " 'by': ['Guido', 'the'],\n",
       " 'Guido': ['van'],\n",
       " 'van': ['Rossum'],\n",
       " 'Rossum': ['and'],\n",
       " 'and': ['comprehensive',\n",
       "  'first',\n",
       "  'has',\n",
       "  'a',\n",
       "  'supports',\n",
       "  'large',\n",
       "  'procedural',\n",
       "  'automatic'],\n",
       " 'first': ['released'],\n",
       " 'released': ['in'],\n",
       " 'in': ['fewer', '1991.', 'languages'],\n",
       " '1991.': ['An'],\n",
       " 'An': ['interpreted'],\n",
       " 'interpreted': ['language,'],\n",
       " 'language,': ['Python'],\n",
       " 'has': ['a'],\n",
       " 'design': ['philosophy'],\n",
       " 'philosophy': ['which'],\n",
       " 'which': ['emphasizes', 'allows'],\n",
       " 'emphasizes': ['code'],\n",
       " 'code': ['readability', 'than', 'to', 'blocks'],\n",
       " 'readability': ['(notably'],\n",
       " '(notably': ['using'],\n",
       " 'using': ['whitespace'],\n",
       " 'whitespace': ['indentation'],\n",
       " 'indentation': ['to'],\n",
       " 'to': ['delimit', 'run', 'express', 'enable'],\n",
       " 'delimit': ['code'],\n",
       " 'blocks': ['rather'],\n",
       " 'rather': ['than'],\n",
       " 'than': ['possible', 'curly'],\n",
       " 'curly': ['braces'],\n",
       " 'braces': ['or'],\n",
       " 'or': ['keywords),', 'Java.'],\n",
       " 'keywords),': ['and'],\n",
       " 'syntax': ['which'],\n",
       " 'allows': ['programmers'],\n",
       " 'programmers': ['to'],\n",
       " 'express': ['concepts'],\n",
       " 'concepts': ['in'],\n",
       " 'fewer': ['lines'],\n",
       " 'lines': ['of'],\n",
       " 'of': ['Python,', 'its', 'systems.', 'code'],\n",
       " 'possible': ['in'],\n",
       " 'languages': ['such'],\n",
       " 'such': ['as'],\n",
       " 'as': ['C++', 'do'],\n",
       " 'C++': ['or'],\n",
       " 'Java.': ['The'],\n",
       " 'The': ['language'],\n",
       " 'provides': ['constructs'],\n",
       " 'constructs': ['intended'],\n",
       " 'intended': ['to'],\n",
       " 'enable': ['writing'],\n",
       " 'writing': ['clear'],\n",
       " 'clear': ['programs'],\n",
       " 'programs': ['on'],\n",
       " 'on': ['a', 'both'],\n",
       " 'both': ['a'],\n",
       " 'small': ['and'],\n",
       " 'large': ['and', 'scale'],\n",
       " 'scale': ['.Python'],\n",
       " '.Python': ['features'],\n",
       " 'features': ['a'],\n",
       " 'dynamic': ['type'],\n",
       " 'type': ['system'],\n",
       " 'system': ['and'],\n",
       " 'automatic': ['memory'],\n",
       " 'memory': ['management'],\n",
       " 'management': ['and'],\n",
       " 'supports': ['multiple'],\n",
       " 'multiple': ['programming'],\n",
       " 'paradigms,': ['including'],\n",
       " 'including': ['object-oriented,'],\n",
       " 'object-oriented,': ['imperative,'],\n",
       " 'imperative,': ['functional'],\n",
       " 'functional': ['programming,'],\n",
       " 'procedural': ['styles.'],\n",
       " 'styles.': ['It'],\n",
       " 'It': ['has'],\n",
       " 'comprehensive': ['standard'],\n",
       " 'standard': ['library.'],\n",
       " 'library.': ['Python'],\n",
       " 'interpreters': ['are'],\n",
       " 'are': ['available'],\n",
       " 'available': ['for'],\n",
       " 'many': ['operating'],\n",
       " 'operating': ['systems,'],\n",
       " 'systems,': ['allowing'],\n",
       " 'allowing': ['Python'],\n",
       " 'run': ['on'],\n",
       " 'wide': ['variety'],\n",
       " 'variety': ['of'],\n",
       " 'systems.': ['CPython,'],\n",
       " 'CPython,': ['the'],\n",
       " 'the': ['reference', 'non-profit'],\n",
       " 'reference': ['implementation'],\n",
       " 'implementation': ['of'],\n",
       " 'Python,': ['is'],\n",
       " 'open': ['source'],\n",
       " 'source': ['software'],\n",
       " 'software': ['and'],\n",
       " 'community-based': ['development'],\n",
       " 'development': ['model,'],\n",
       " 'model,': ['as'],\n",
       " 'do': ['nearly'],\n",
       " 'nearly': ['all'],\n",
       " 'all': ['of'],\n",
       " 'its': ['variant'],\n",
       " 'variant': ['implementations.'],\n",
       " 'implementations.': ['CPython'],\n",
       " 'CPython': ['is'],\n",
       " 'managed': ['by'],\n",
       " 'non-profit': ['Python'],\n",
       " 'Software': ['Foundation.'],\n",
       " 'Foundation.': ['']}"
      ]
     },
     "execution_count": 148,
     "metadata": {},
     "output_type": "execute_result"
    }
   ],
   "source": [
    "str_splt=py_dict1.split()\n",
    "itr=iter(str_splt)\n",
    "next(itr)\n",
    "\n",
    "predict_dict={}\n",
    "for x in str_splt:\n",
    "    if x !=str_splt[-1]:\n",
    "        add_val=next(itr)\n",
    "    else:\n",
    "        add_val=''\n",
    "      \n",
    "    if x in predict_dict.keys():\n",
    "        predict_dict[x].append(add_val)\n",
    "        predict_dict[x]=list(set(predict_dict[x]))\n",
    "    else:\n",
    "        predict_dict[x]=[add_val]\n",
    "\n",
    "predict_dict\n"
   ]
  },
  {
   "cell_type": "code",
   "execution_count": 194,
   "metadata": {},
   "outputs": [
    {
     "data": {
      "text/plain": [
       "['language', 'paradigms,']"
      ]
     },
     "execution_count": 194,
     "metadata": {},
     "output_type": "execute_result"
    }
   ],
   "source": [
    "predict_dict['programming']"
   ]
  },
  {
   "cell_type": "markdown",
   "metadata": {},
   "source": [
    "9. Below is the output of # show ip interface brief command on a router\n",
    "\n",
    "Interface\t\tIP-Address\tOK? \tMethod Status\tProtocol\n",
    " \n",
    "FastEthernet0/0\t192.168.1.242\tYES \tmanual up\tup \n",
    "FastEthernet1/0        unassigned\tYES \tunset\t\tdown \n",
    "Serial2/0              \t192.168.1.250\tYES \tmanual up\tup \n",
    "Serial3/0              \t192.168.1.233\tYES \tmanual up\tup \n",
    "FastEthernet4/0        unassigned\tYES \tunset  \t\tdown\t\n",
    "FastEthernet5/0        unassigned\tYES        unset \t\tdown\n",
    "\n",
    "a.\tUse regular expressions to extract and display Interface and method status for all the interfaces.\n",
    "i.\tE.g.  FastEthernet0/0, manual up\n"
   ]
  },
  {
   "cell_type": "code",
   "execution_count": 63,
   "metadata": {},
   "outputs": [
    {
     "name": "stdout",
     "output_type": "stream",
     "text": [
      "FastEthernet0/0 , manual up\n",
      "FastEthernet1/0 , unset\n",
      "Serial2/0 , manual up\n",
      "Serial3/0 , manual up\n",
      "FastEthernet4/0 , unset\n",
      "FastEthernet5/0 , unset\n"
     ]
    }
   ],
   "source": [
    "\n",
    "import re\n",
    "\n",
    "eth_str=\"\"\"Interface IP-Address OK?  Method Status Protocol\n",
    " \n",
    "FastEthernet0/0 192.168.1.242 YES manual up up \n",
    "FastEthernet1/0 unassigned YES unset down \n",
    "Serial2/0 192.168.1.250 YES manual up up \n",
    "Serial3/0 192.168.1.233 YES manual up up \n",
    "FastEthernet4/0 unassigned YES unset down \n",
    "FastEthernet5/0 unassigned YES unset down\"\"\"\n",
    "\n",
    "\n",
    "for mylist in eth_str.splitlines():\n",
    "    \n",
    "    pat = re.compile(r\"(\\w+\\d\\/\\d)\\s+[.0-9a-z]+\\s+\\w+\\s+(\\w+\\s?\\w+?)\\s+\\w+\")\n",
    "    newlist = re.match(r\"(\\w+\\d\\/\\d)\\s+[.0-9a-z]+\\s+\\w+\\s+(\\w+\\s?\\w+?)\\s+\\w+\",mylist, re.M|re.I)\n",
    "    if newlist :\n",
    "        print(newlist.group(1),\",\",newlist.group(2))\n",
    "\n"
   ]
  },
  {
   "cell_type": "markdown",
   "metadata": {},
   "source": [
    "10.\tGiven a number line from -infinity to +infinity. You start at 0 and can go either to the left or to the right. The condition is that in i’th move, you take i steps. In the first move take 1 step, second move 2 steps and so on. \n",
    "Hint: 3 can be reached in 2 steps (0, 1) (1, 3). 2 can be reached in 3 steps (0, 1) (1,-1) (-1, 2)\n",
    "a) Find the optimal number of steps to reach position 1000000000 and -1000000000. \n"
   ]
  },
  {
   "cell_type": "code",
   "execution_count": 78,
   "metadata": {},
   "outputs": [
    {
     "ename": "KeyboardInterrupt",
     "evalue": "",
     "output_type": "error",
     "traceback": [
      "\u001b[1;31m---------------------------------------------------------------------------\u001b[0m",
      "\u001b[1;31mKeyboardInterrupt\u001b[0m                         Traceback (most recent call last)",
      "\u001b[1;32m<ipython-input-78-ac87e8f5d085>\u001b[0m in \u001b[0;36m<module>\u001b[1;34m\u001b[0m\n\u001b[0;32m     24\u001b[0m     \u001b[0mprint\u001b[0m\u001b[1;33m(\u001b[0m\u001b[1;34m\"total steps taken :\"\u001b[0m\u001b[1;33m,\u001b[0m \u001b[0mstep_cnt\u001b[0m\u001b[1;33m)\u001b[0m\u001b[1;33m\u001b[0m\u001b[1;33m\u001b[0m\u001b[0m\n\u001b[0;32m     25\u001b[0m \u001b[1;33m\u001b[0m\u001b[0m\n\u001b[1;32m---> 26\u001b[1;33m \u001b[0moptm_step\u001b[0m\u001b[1;33m(\u001b[0m\u001b[1;36m2\u001b[0m\u001b[1;33m)\u001b[0m\u001b[1;33m\u001b[0m\u001b[1;33m\u001b[0m\u001b[0m\n\u001b[0m",
      "\u001b[1;32m<ipython-input-78-ac87e8f5d085>\u001b[0m in \u001b[0;36moptm_step\u001b[1;34m(end_point)\u001b[0m\n\u001b[0;32m     12\u001b[0m         \u001b[0mcurr_pos\u001b[0m\u001b[1;33m=\u001b[0m\u001b[0mcurr_pos\u001b[0m\u001b[1;33m+\u001b[0m\u001b[0mstep_cnt\u001b[0m \u001b[1;31m#15\u001b[0m\u001b[1;33m\u001b[0m\u001b[1;33m\u001b[0m\u001b[0m\n\u001b[0;32m     13\u001b[0m         \u001b[1;32mif\u001b[0m\u001b[1;33m(\u001b[0m\u001b[0mcurr_pos\u001b[0m \u001b[1;33m>\u001b[0m \u001b[0mend_point\u001b[0m\u001b[1;33m)\u001b[0m\u001b[1;33m:\u001b[0m \u001b[1;31m#15>12\u001b[0m\u001b[1;33m\u001b[0m\u001b[1;33m\u001b[0m\u001b[0m\n\u001b[1;32m---> 14\u001b[1;33m             \u001b[0mstep_cnt\u001b[0m\u001b[1;33m=\u001b[0m\u001b[0mstep_cnt\u001b[0m\u001b[1;33m+\u001b[0m\u001b[1;36m1\u001b[0m \u001b[1;31m#16\u001b[0m\u001b[1;33m\u001b[0m\u001b[1;33m\u001b[0m\u001b[0m\n\u001b[0m\u001b[0;32m     15\u001b[0m             \u001b[1;32mif\u001b[0m\u001b[1;33m(\u001b[0m\u001b[1;33m(\u001b[0m\u001b[0mcurr_pos\u001b[0m \u001b[1;33m-\u001b[0m \u001b[0mstep_cnt\u001b[0m\u001b[1;33m)\u001b[0m \u001b[1;33m%\u001b[0m \u001b[1;36m2\u001b[0m \u001b[1;33m==\u001b[0m \u001b[1;36m0\u001b[0m\u001b[1;33m)\u001b[0m\u001b[1;33m:\u001b[0m \u001b[1;31m#15-6 = 9 %2 = 1\u001b[0m\u001b[1;33m\u001b[0m\u001b[1;33m\u001b[0m\u001b[0m\n\u001b[0;32m     16\u001b[0m                \u001b[0mcurr_pos\u001b[0m\u001b[1;33m=\u001b[0m\u001b[0mcurr_pos\u001b[0m\u001b[1;33m-\u001b[0m\u001b[0mstep_cnt\u001b[0m\u001b[1;33m\u001b[0m\u001b[1;33m\u001b[0m\u001b[0m\n",
      "\u001b[1;31mKeyboardInterrupt\u001b[0m: "
     ]
    }
   ],
   "source": [
    "import sys\n",
    "\n",
    "def optm_step(end_point):\n",
    "    end_point=abs(end_point)\n",
    "    \n",
    "    init_pos=0\n",
    "    step_cnt=0\n",
    "    curr_pos=init_pos\n",
    "   # \n",
    "\n",
    "    while(curr_pos <= end_point):\n",
    "        curr_pos=curr_pos+step_cnt #15\n",
    "        if(curr_pos > end_point): #15>12\n",
    "            step_cnt=step_cnt+1 #16\n",
    "            if((curr_pos - step_cnt) % 2 == 0): #15-6 = 9 %2 = 1\n",
    "               curr_pos=curr_pos-step_cnt\n",
    "            else:\n",
    "                curr_pos=curr_pos-step_cnt-(step_cnt-1)\n",
    "        else :\n",
    "            step_cnt+=1\n",
    "            \n",
    "        if(curr_pos == end_point):\n",
    "            return step \n",
    "    print(\"total steps taken :\", step_cnt)  \n",
    "\n",
    "optm_step(2)\n"
   ]
  },
  {
   "cell_type": "code",
   "execution_count": null,
   "metadata": {},
   "outputs": [],
   "source": []
  }
 ],
 "metadata": {
  "kernelspec": {
   "display_name": "Python 3",
   "language": "python",
   "name": "python3"
  },
  "language_info": {
   "codemirror_mode": {
    "name": "ipython",
    "version": 3
   },
   "file_extension": ".py",
   "mimetype": "text/x-python",
   "name": "python",
   "nbconvert_exporter": "python",
   "pygments_lexer": "ipython3",
   "version": "3.8.3"
  }
 },
 "nbformat": 4,
 "nbformat_minor": 4
}
